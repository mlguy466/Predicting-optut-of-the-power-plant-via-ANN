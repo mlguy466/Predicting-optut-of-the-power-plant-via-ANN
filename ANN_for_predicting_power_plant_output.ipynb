{
  "nbformat": 4,
  "nbformat_minor": 0,
  "metadata": {
    "colab": {
      "name": "ANN for predicting power plant output.ipynb",
      "provenance": [],
      "collapsed_sections": []
    },
    "kernelspec": {
      "name": "python3",
      "display_name": "Python 3"
    },
    "language_info": {
      "name": "python"
    },
    "accelerator": "GPU"
  },
  "cells": [
    {
      "cell_type": "markdown",
      "source": [
        "Importing necessary libraries"
      ],
      "metadata": {
        "id": "W4fI2ZOsfG-z"
      }
    },
    {
      "cell_type": "code",
      "execution_count": 1,
      "metadata": {
        "id": "cMMFkW0RYZum"
      },
      "outputs": [],
      "source": [
        "import numpy as np\n",
        "import pandas as pd\n",
        "import matplotlib.pyplot as pyoplot\n",
        "import sklearn\n",
        "import tensorflow as tf"
      ]
    },
    {
      "cell_type": "markdown",
      "source": [
        "Importing dataset"
      ],
      "metadata": {
        "id": "JoLjuSlxfDsj"
      }
    },
    {
      "cell_type": "code",
      "source": [
        "df = pd.read_excel('/content/drive/MyDrive/data/powerplant/Folds5x2_pp.xlsx')\n",
        "df.head()"
      ],
      "metadata": {
        "colab": {
          "base_uri": "https://localhost:8080/",
          "height": 206
        },
        "id": "EPvq7sykeFdq",
        "outputId": "a58d16f7-d399-47af-bc03-12593e37ed64"
      },
      "execution_count": 2,
      "outputs": [
        {
          "output_type": "execute_result",
          "data": {
            "text/plain": [
              "      AT      V       AP     RH      PE\n",
              "0  14.96  41.76  1024.07  73.17  463.26\n",
              "1  25.18  62.96  1020.04  59.08  444.37\n",
              "2   5.11  39.40  1012.16  92.14  488.56\n",
              "3  20.86  57.32  1010.24  76.64  446.48\n",
              "4  10.82  37.50  1009.23  96.62  473.90"
            ],
            "text/html": [
              "\n",
              "  <div id=\"df-a2833ab9-8d48-4921-8ca5-7160b79168ec\">\n",
              "    <div class=\"colab-df-container\">\n",
              "      <div>\n",
              "<style scoped>\n",
              "    .dataframe tbody tr th:only-of-type {\n",
              "        vertical-align: middle;\n",
              "    }\n",
              "\n",
              "    .dataframe tbody tr th {\n",
              "        vertical-align: top;\n",
              "    }\n",
              "\n",
              "    .dataframe thead th {\n",
              "        text-align: right;\n",
              "    }\n",
              "</style>\n",
              "<table border=\"1\" class=\"dataframe\">\n",
              "  <thead>\n",
              "    <tr style=\"text-align: right;\">\n",
              "      <th></th>\n",
              "      <th>AT</th>\n",
              "      <th>V</th>\n",
              "      <th>AP</th>\n",
              "      <th>RH</th>\n",
              "      <th>PE</th>\n",
              "    </tr>\n",
              "  </thead>\n",
              "  <tbody>\n",
              "    <tr>\n",
              "      <th>0</th>\n",
              "      <td>14.96</td>\n",
              "      <td>41.76</td>\n",
              "      <td>1024.07</td>\n",
              "      <td>73.17</td>\n",
              "      <td>463.26</td>\n",
              "    </tr>\n",
              "    <tr>\n",
              "      <th>1</th>\n",
              "      <td>25.18</td>\n",
              "      <td>62.96</td>\n",
              "      <td>1020.04</td>\n",
              "      <td>59.08</td>\n",
              "      <td>444.37</td>\n",
              "    </tr>\n",
              "    <tr>\n",
              "      <th>2</th>\n",
              "      <td>5.11</td>\n",
              "      <td>39.40</td>\n",
              "      <td>1012.16</td>\n",
              "      <td>92.14</td>\n",
              "      <td>488.56</td>\n",
              "    </tr>\n",
              "    <tr>\n",
              "      <th>3</th>\n",
              "      <td>20.86</td>\n",
              "      <td>57.32</td>\n",
              "      <td>1010.24</td>\n",
              "      <td>76.64</td>\n",
              "      <td>446.48</td>\n",
              "    </tr>\n",
              "    <tr>\n",
              "      <th>4</th>\n",
              "      <td>10.82</td>\n",
              "      <td>37.50</td>\n",
              "      <td>1009.23</td>\n",
              "      <td>96.62</td>\n",
              "      <td>473.90</td>\n",
              "    </tr>\n",
              "  </tbody>\n",
              "</table>\n",
              "</div>\n",
              "      <button class=\"colab-df-convert\" onclick=\"convertToInteractive('df-a2833ab9-8d48-4921-8ca5-7160b79168ec')\"\n",
              "              title=\"Convert this dataframe to an interactive table.\"\n",
              "              style=\"display:none;\">\n",
              "        \n",
              "  <svg xmlns=\"http://www.w3.org/2000/svg\" height=\"24px\"viewBox=\"0 0 24 24\"\n",
              "       width=\"24px\">\n",
              "    <path d=\"M0 0h24v24H0V0z\" fill=\"none\"/>\n",
              "    <path d=\"M18.56 5.44l.94 2.06.94-2.06 2.06-.94-2.06-.94-.94-2.06-.94 2.06-2.06.94zm-11 1L8.5 8.5l.94-2.06 2.06-.94-2.06-.94L8.5 2.5l-.94 2.06-2.06.94zm10 10l.94 2.06.94-2.06 2.06-.94-2.06-.94-.94-2.06-.94 2.06-2.06.94z\"/><path d=\"M17.41 7.96l-1.37-1.37c-.4-.4-.92-.59-1.43-.59-.52 0-1.04.2-1.43.59L10.3 9.45l-7.72 7.72c-.78.78-.78 2.05 0 2.83L4 21.41c.39.39.9.59 1.41.59.51 0 1.02-.2 1.41-.59l7.78-7.78 2.81-2.81c.8-.78.8-2.07 0-2.86zM5.41 20L4 18.59l7.72-7.72 1.47 1.35L5.41 20z\"/>\n",
              "  </svg>\n",
              "      </button>\n",
              "      \n",
              "  <style>\n",
              "    .colab-df-container {\n",
              "      display:flex;\n",
              "      flex-wrap:wrap;\n",
              "      gap: 12px;\n",
              "    }\n",
              "\n",
              "    .colab-df-convert {\n",
              "      background-color: #E8F0FE;\n",
              "      border: none;\n",
              "      border-radius: 50%;\n",
              "      cursor: pointer;\n",
              "      display: none;\n",
              "      fill: #1967D2;\n",
              "      height: 32px;\n",
              "      padding: 0 0 0 0;\n",
              "      width: 32px;\n",
              "    }\n",
              "\n",
              "    .colab-df-convert:hover {\n",
              "      background-color: #E2EBFA;\n",
              "      box-shadow: 0px 1px 2px rgba(60, 64, 67, 0.3), 0px 1px 3px 1px rgba(60, 64, 67, 0.15);\n",
              "      fill: #174EA6;\n",
              "    }\n",
              "\n",
              "    [theme=dark] .colab-df-convert {\n",
              "      background-color: #3B4455;\n",
              "      fill: #D2E3FC;\n",
              "    }\n",
              "\n",
              "    [theme=dark] .colab-df-convert:hover {\n",
              "      background-color: #434B5C;\n",
              "      box-shadow: 0px 1px 3px 1px rgba(0, 0, 0, 0.15);\n",
              "      filter: drop-shadow(0px 1px 2px rgba(0, 0, 0, 0.3));\n",
              "      fill: #FFFFFF;\n",
              "    }\n",
              "  </style>\n",
              "\n",
              "      <script>\n",
              "        const buttonEl =\n",
              "          document.querySelector('#df-a2833ab9-8d48-4921-8ca5-7160b79168ec button.colab-df-convert');\n",
              "        buttonEl.style.display =\n",
              "          google.colab.kernel.accessAllowed ? 'block' : 'none';\n",
              "\n",
              "        async function convertToInteractive(key) {\n",
              "          const element = document.querySelector('#df-a2833ab9-8d48-4921-8ca5-7160b79168ec');\n",
              "          const dataTable =\n",
              "            await google.colab.kernel.invokeFunction('convertToInteractive',\n",
              "                                                     [key], {});\n",
              "          if (!dataTable) return;\n",
              "\n",
              "          const docLinkHtml = 'Like what you see? Visit the ' +\n",
              "            '<a target=\"_blank\" href=https://colab.research.google.com/notebooks/data_table.ipynb>data table notebook</a>'\n",
              "            + ' to learn more about interactive tables.';\n",
              "          element.innerHTML = '';\n",
              "          dataTable['output_type'] = 'display_data';\n",
              "          await google.colab.output.renderOutput(dataTable, element);\n",
              "          const docLink = document.createElement('div');\n",
              "          docLink.innerHTML = docLinkHtml;\n",
              "          element.appendChild(docLink);\n",
              "        }\n",
              "      </script>\n",
              "    </div>\n",
              "  </div>\n",
              "  "
            ]
          },
          "metadata": {},
          "execution_count": 2
        }
      ]
    },
    {
      "cell_type": "code",
      "source": [
        "X = df.drop('PE', axis=1)\n",
        "y = df.PE"
      ],
      "metadata": {
        "id": "6VyeKhZQe2HB"
      },
      "execution_count": 3,
      "outputs": []
    },
    {
      "cell_type": "code",
      "source": [
        "df.isna().sum()"
      ],
      "metadata": {
        "colab": {
          "base_uri": "https://localhost:8080/"
        },
        "id": "qUpoe-eIfO1T",
        "outputId": "49497c6d-2883-4630-bfef-92b94ff4a5e1"
      },
      "execution_count": 4,
      "outputs": [
        {
          "output_type": "execute_result",
          "data": {
            "text/plain": [
              "AT    0\n",
              "V     0\n",
              "AP    0\n",
              "RH    0\n",
              "PE    0\n",
              "dtype: int64"
            ]
          },
          "metadata": {},
          "execution_count": 4
        }
      ]
    },
    {
      "cell_type": "markdown",
      "source": [
        "Splitting dataset into training and test"
      ],
      "metadata": {
        "id": "RHtv5Scje9XE"
      }
    },
    {
      "cell_type": "code",
      "source": [
        "from sklearn.model_selection import train_test_split\n",
        "X_train, X_test, y_train, y_test = train_test_split(X, y, test_size=0.2)\n"
      ],
      "metadata": {
        "id": "0BZjuHxAfObC"
      },
      "execution_count": 5,
      "outputs": []
    },
    {
      "cell_type": "markdown",
      "source": [
        "Building the ANN"
      ],
      "metadata": {
        "id": "HI3k4kUBfmaN"
      }
    },
    {
      "cell_type": "code",
      "source": [
        "ann = tf.keras.models.Sequential()"
      ],
      "metadata": {
        "id": "Cj9BlfkKgWXK"
      },
      "execution_count": 15,
      "outputs": []
    },
    {
      "cell_type": "code",
      "source": [
        "ann.add(tf.keras.layers.Dense(units=10, activation= 'relu'))"
      ],
      "metadata": {
        "id": "8d0N0L5-gv2c"
      },
      "execution_count": 16,
      "outputs": []
    },
    {
      "cell_type": "code",
      "source": [
        "ann.add(tf.keras.layers.Dense(units=6 , activation = 'relu'))"
      ],
      "metadata": {
        "id": "urcY4MUYiIAs"
      },
      "execution_count": 17,
      "outputs": []
    },
    {
      "cell_type": "markdown",
      "source": [
        "Adding output layer"
      ],
      "metadata": {
        "id": "R96E34dkin09"
      }
    },
    {
      "cell_type": "code",
      "source": [
        "ann.add(tf.keras.layers.Dense(units=1))"
      ],
      "metadata": {
        "id": "-UAd6WGDipd3"
      },
      "execution_count": 18,
      "outputs": []
    },
    {
      "cell_type": "markdown",
      "source": [
        "Training ANN"
      ],
      "metadata": {
        "id": "0nqaS4Qcjm0m"
      }
    },
    {
      "cell_type": "markdown",
      "source": [
        "Compiling the ANN"
      ],
      "metadata": {
        "id": "PdCuXyJekP16"
      }
    },
    {
      "cell_type": "code",
      "source": [
        "ann.compile(optimizer = tf.keras.optimizers.Adam(), loss= 'mean_squared_error', metrics=['accuracy'])"
      ],
      "metadata": {
        "id": "op8abhhmjq3p"
      },
      "execution_count": 19,
      "outputs": []
    },
    {
      "cell_type": "markdown",
      "source": [
        "Training ANN"
      ],
      "metadata": {
        "id": "L5PQyTVFkFDn"
      }
    },
    {
      "cell_type": "code",
      "source": [
        "ann.fit(X_train, y_train, batch_size=32, epochs=100)"
      ],
      "metadata": {
        "colab": {
          "base_uri": "https://localhost:8080/"
        },
        "id": "yVWayVtSkVEn",
        "outputId": "736345df-a16b-47eb-82b8-929138f1601a"
      },
      "execution_count": 20,
      "outputs": [
        {
          "output_type": "stream",
          "name": "stdout",
          "text": [
            "Epoch 1/100\n",
            "240/240 [==============================] - 1s 2ms/step - loss: 125835.9297 - accuracy: 0.0000e+00\n",
            "Epoch 2/100\n",
            "240/240 [==============================] - 1s 2ms/step - loss: 1229.4171 - accuracy: 0.0000e+00\n",
            "Epoch 3/100\n",
            "240/240 [==============================] - 1s 2ms/step - loss: 112.6951 - accuracy: 0.0000e+00\n",
            "Epoch 4/100\n",
            "240/240 [==============================] - 1s 2ms/step - loss: 63.8207 - accuracy: 0.0000e+00\n",
            "Epoch 5/100\n",
            "240/240 [==============================] - 1s 2ms/step - loss: 40.0511 - accuracy: 0.0000e+00\n",
            "Epoch 6/100\n",
            "240/240 [==============================] - 1s 2ms/step - loss: 33.5220 - accuracy: 0.0000e+00\n",
            "Epoch 7/100\n",
            "240/240 [==============================] - 1s 2ms/step - loss: 31.7321 - accuracy: 0.0000e+00\n",
            "Epoch 8/100\n",
            "240/240 [==============================] - 1s 3ms/step - loss: 31.6789 - accuracy: 0.0000e+00\n",
            "Epoch 9/100\n",
            "240/240 [==============================] - 1s 2ms/step - loss: 29.8281 - accuracy: 0.0000e+00\n",
            "Epoch 10/100\n",
            "240/240 [==============================] - 1s 2ms/step - loss: 29.2196 - accuracy: 0.0000e+00\n",
            "Epoch 11/100\n",
            "240/240 [==============================] - 1s 2ms/step - loss: 28.7974 - accuracy: 0.0000e+00\n",
            "Epoch 12/100\n",
            "240/240 [==============================] - 1s 2ms/step - loss: 29.7126 - accuracy: 0.0000e+00\n",
            "Epoch 13/100\n",
            "240/240 [==============================] - 1s 3ms/step - loss: 28.2475 - accuracy: 0.0000e+00\n",
            "Epoch 14/100\n",
            "240/240 [==============================] - 1s 2ms/step - loss: 28.5774 - accuracy: 0.0000e+00\n",
            "Epoch 15/100\n",
            "240/240 [==============================] - 1s 3ms/step - loss: 27.8408 - accuracy: 0.0000e+00\n",
            "Epoch 16/100\n",
            "240/240 [==============================] - 1s 2ms/step - loss: 28.4187 - accuracy: 0.0000e+00\n",
            "Epoch 17/100\n",
            "240/240 [==============================] - 1s 2ms/step - loss: 27.7709 - accuracy: 0.0000e+00\n",
            "Epoch 18/100\n",
            "240/240 [==============================] - 1s 3ms/step - loss: 28.3682 - accuracy: 0.0000e+00\n",
            "Epoch 19/100\n",
            "240/240 [==============================] - 1s 2ms/step - loss: 27.4093 - accuracy: 0.0000e+00\n",
            "Epoch 20/100\n",
            "240/240 [==============================] - 1s 2ms/step - loss: 27.9286 - accuracy: 0.0000e+00\n",
            "Epoch 21/100\n",
            "240/240 [==============================] - 1s 2ms/step - loss: 27.5560 - accuracy: 0.0000e+00\n",
            "Epoch 22/100\n",
            "240/240 [==============================] - 1s 2ms/step - loss: 29.6313 - accuracy: 0.0000e+00\n",
            "Epoch 23/100\n",
            "240/240 [==============================] - 1s 2ms/step - loss: 27.6006 - accuracy: 0.0000e+00\n",
            "Epoch 24/100\n",
            "240/240 [==============================] - 1s 2ms/step - loss: 27.2899 - accuracy: 0.0000e+00\n",
            "Epoch 25/100\n",
            "240/240 [==============================] - 1s 3ms/step - loss: 28.8712 - accuracy: 0.0000e+00\n",
            "Epoch 26/100\n",
            "240/240 [==============================] - 1s 2ms/step - loss: 27.0401 - accuracy: 0.0000e+00\n",
            "Epoch 27/100\n",
            "240/240 [==============================] - 1s 2ms/step - loss: 28.0566 - accuracy: 0.0000e+00\n",
            "Epoch 28/100\n",
            "240/240 [==============================] - 1s 3ms/step - loss: 27.5810 - accuracy: 0.0000e+00\n",
            "Epoch 29/100\n",
            "240/240 [==============================] - 1s 2ms/step - loss: 27.1421 - accuracy: 0.0000e+00\n",
            "Epoch 30/100\n",
            "240/240 [==============================] - 1s 3ms/step - loss: 26.7013 - accuracy: 0.0000e+00\n",
            "Epoch 31/100\n",
            "240/240 [==============================] - 1s 2ms/step - loss: 27.2658 - accuracy: 0.0000e+00\n",
            "Epoch 32/100\n",
            "240/240 [==============================] - 1s 2ms/step - loss: 27.6678 - accuracy: 0.0000e+00\n",
            "Epoch 33/100\n",
            "240/240 [==============================] - 1s 2ms/step - loss: 28.2704 - accuracy: 0.0000e+00\n",
            "Epoch 34/100\n",
            "240/240 [==============================] - 1s 2ms/step - loss: 27.3059 - accuracy: 0.0000e+00\n",
            "Epoch 35/100\n",
            "240/240 [==============================] - 1s 2ms/step - loss: 27.5308 - accuracy: 0.0000e+00\n",
            "Epoch 36/100\n",
            "240/240 [==============================] - 1s 3ms/step - loss: 27.5548 - accuracy: 0.0000e+00\n",
            "Epoch 37/100\n",
            "240/240 [==============================] - 1s 2ms/step - loss: 27.0394 - accuracy: 0.0000e+00\n",
            "Epoch 38/100\n",
            "240/240 [==============================] - 1s 2ms/step - loss: 27.6424 - accuracy: 0.0000e+00\n",
            "Epoch 39/100\n",
            "240/240 [==============================] - 1s 2ms/step - loss: 27.5575 - accuracy: 0.0000e+00\n",
            "Epoch 40/100\n",
            "240/240 [==============================] - 1s 3ms/step - loss: 28.6699 - accuracy: 0.0000e+00\n",
            "Epoch 41/100\n",
            "240/240 [==============================] - 1s 3ms/step - loss: 26.9682 - accuracy: 0.0000e+00\n",
            "Epoch 42/100\n",
            "240/240 [==============================] - 1s 3ms/step - loss: 27.6018 - accuracy: 0.0000e+00\n",
            "Epoch 43/100\n",
            "240/240 [==============================] - 1s 2ms/step - loss: 27.4168 - accuracy: 0.0000e+00\n",
            "Epoch 44/100\n",
            "240/240 [==============================] - 1s 2ms/step - loss: 27.5879 - accuracy: 0.0000e+00\n",
            "Epoch 45/100\n",
            "240/240 [==============================] - 1s 3ms/step - loss: 26.9122 - accuracy: 0.0000e+00\n",
            "Epoch 46/100\n",
            "240/240 [==============================] - 1s 2ms/step - loss: 28.0175 - accuracy: 0.0000e+00\n",
            "Epoch 47/100\n",
            "240/240 [==============================] - 1s 3ms/step - loss: 29.1392 - accuracy: 0.0000e+00\n",
            "Epoch 48/100\n",
            "240/240 [==============================] - 1s 2ms/step - loss: 27.5620 - accuracy: 0.0000e+00\n",
            "Epoch 49/100\n",
            "240/240 [==============================] - 1s 2ms/step - loss: 27.5775 - accuracy: 0.0000e+00\n",
            "Epoch 50/100\n",
            "240/240 [==============================] - 1s 2ms/step - loss: 27.6347 - accuracy: 0.0000e+00\n",
            "Epoch 51/100\n",
            "240/240 [==============================] - 1s 3ms/step - loss: 27.7900 - accuracy: 0.0000e+00\n",
            "Epoch 52/100\n",
            "240/240 [==============================] - 1s 2ms/step - loss: 27.9423 - accuracy: 0.0000e+00\n",
            "Epoch 53/100\n",
            "240/240 [==============================] - 1s 2ms/step - loss: 27.6080 - accuracy: 0.0000e+00\n",
            "Epoch 54/100\n",
            "240/240 [==============================] - 1s 2ms/step - loss: 27.4128 - accuracy: 0.0000e+00\n",
            "Epoch 55/100\n",
            "240/240 [==============================] - 1s 2ms/step - loss: 27.7746 - accuracy: 0.0000e+00\n",
            "Epoch 56/100\n",
            "240/240 [==============================] - 1s 2ms/step - loss: 26.9529 - accuracy: 0.0000e+00\n",
            "Epoch 57/100\n",
            "240/240 [==============================] - 1s 3ms/step - loss: 27.4148 - accuracy: 0.0000e+00\n",
            "Epoch 58/100\n",
            "240/240 [==============================] - 1s 3ms/step - loss: 27.4836 - accuracy: 0.0000e+00\n",
            "Epoch 59/100\n",
            "240/240 [==============================] - 1s 3ms/step - loss: 28.2932 - accuracy: 0.0000e+00\n",
            "Epoch 60/100\n",
            "240/240 [==============================] - 1s 2ms/step - loss: 27.4106 - accuracy: 0.0000e+00\n",
            "Epoch 61/100\n",
            "240/240 [==============================] - 1s 3ms/step - loss: 28.4023 - accuracy: 0.0000e+00\n",
            "Epoch 62/100\n",
            "240/240 [==============================] - 1s 3ms/step - loss: 27.0339 - accuracy: 0.0000e+00\n",
            "Epoch 63/100\n",
            "240/240 [==============================] - 1s 2ms/step - loss: 27.8468 - accuracy: 0.0000e+00\n",
            "Epoch 64/100\n",
            "240/240 [==============================] - 1s 3ms/step - loss: 27.8141 - accuracy: 0.0000e+00\n",
            "Epoch 65/100\n",
            "240/240 [==============================] - 1s 2ms/step - loss: 27.6557 - accuracy: 0.0000e+00\n",
            "Epoch 66/100\n",
            "240/240 [==============================] - 1s 2ms/step - loss: 27.0438 - accuracy: 0.0000e+00\n",
            "Epoch 67/100\n",
            "240/240 [==============================] - 1s 3ms/step - loss: 27.1354 - accuracy: 0.0000e+00\n",
            "Epoch 68/100\n",
            "240/240 [==============================] - 1s 2ms/step - loss: 27.3486 - accuracy: 0.0000e+00\n",
            "Epoch 69/100\n",
            "240/240 [==============================] - 1s 3ms/step - loss: 28.0181 - accuracy: 0.0000e+00\n",
            "Epoch 70/100\n",
            "240/240 [==============================] - 1s 3ms/step - loss: 27.3426 - accuracy: 0.0000e+00\n",
            "Epoch 71/100\n",
            "240/240 [==============================] - 1s 3ms/step - loss: 28.4757 - accuracy: 0.0000e+00\n",
            "Epoch 72/100\n",
            "240/240 [==============================] - 1s 3ms/step - loss: 28.0175 - accuracy: 0.0000e+00\n",
            "Epoch 73/100\n",
            "240/240 [==============================] - 1s 3ms/step - loss: 28.5933 - accuracy: 0.0000e+00\n",
            "Epoch 74/100\n",
            "240/240 [==============================] - 1s 3ms/step - loss: 27.0527 - accuracy: 0.0000e+00\n",
            "Epoch 75/100\n",
            "240/240 [==============================] - 1s 2ms/step - loss: 27.4306 - accuracy: 0.0000e+00\n",
            "Epoch 76/100\n",
            "240/240 [==============================] - 1s 2ms/step - loss: 28.0835 - accuracy: 0.0000e+00\n",
            "Epoch 77/100\n",
            "240/240 [==============================] - 1s 3ms/step - loss: 27.3388 - accuracy: 0.0000e+00\n",
            "Epoch 78/100\n",
            "240/240 [==============================] - 1s 2ms/step - loss: 26.9387 - accuracy: 0.0000e+00\n",
            "Epoch 79/100\n",
            "240/240 [==============================] - 1s 3ms/step - loss: 27.1261 - accuracy: 0.0000e+00\n",
            "Epoch 80/100\n",
            "240/240 [==============================] - 1s 3ms/step - loss: 27.6247 - accuracy: 0.0000e+00\n",
            "Epoch 81/100\n",
            "240/240 [==============================] - 1s 2ms/step - loss: 28.1376 - accuracy: 0.0000e+00\n",
            "Epoch 82/100\n",
            "240/240 [==============================] - 1s 3ms/step - loss: 26.5902 - accuracy: 0.0000e+00\n",
            "Epoch 83/100\n",
            "240/240 [==============================] - 1s 2ms/step - loss: 27.6288 - accuracy: 0.0000e+00\n",
            "Epoch 84/100\n",
            "240/240 [==============================] - 1s 2ms/step - loss: 27.3766 - accuracy: 0.0000e+00\n",
            "Epoch 85/100\n",
            "240/240 [==============================] - 1s 2ms/step - loss: 27.9009 - accuracy: 0.0000e+00\n",
            "Epoch 86/100\n",
            "240/240 [==============================] - 1s 3ms/step - loss: 27.2675 - accuracy: 0.0000e+00\n",
            "Epoch 87/100\n",
            "240/240 [==============================] - 1s 3ms/step - loss: 27.4921 - accuracy: 0.0000e+00\n",
            "Epoch 88/100\n",
            "240/240 [==============================] - 1s 2ms/step - loss: 27.3978 - accuracy: 0.0000e+00\n",
            "Epoch 89/100\n",
            "240/240 [==============================] - 1s 2ms/step - loss: 28.3200 - accuracy: 0.0000e+00\n",
            "Epoch 90/100\n",
            "240/240 [==============================] - 1s 3ms/step - loss: 27.1025 - accuracy: 0.0000e+00\n",
            "Epoch 91/100\n",
            "240/240 [==============================] - 1s 2ms/step - loss: 26.9286 - accuracy: 0.0000e+00\n",
            "Epoch 92/100\n",
            "240/240 [==============================] - 1s 2ms/step - loss: 27.7698 - accuracy: 0.0000e+00\n",
            "Epoch 93/100\n",
            "240/240 [==============================] - 1s 2ms/step - loss: 26.9348 - accuracy: 0.0000e+00\n",
            "Epoch 94/100\n",
            "240/240 [==============================] - 1s 2ms/step - loss: 27.4397 - accuracy: 0.0000e+00\n",
            "Epoch 95/100\n",
            "240/240 [==============================] - 1s 3ms/step - loss: 27.2858 - accuracy: 0.0000e+00\n",
            "Epoch 96/100\n",
            "240/240 [==============================] - 1s 3ms/step - loss: 26.9275 - accuracy: 0.0000e+00\n",
            "Epoch 97/100\n",
            "240/240 [==============================] - 1s 3ms/step - loss: 27.0122 - accuracy: 0.0000e+00\n",
            "Epoch 98/100\n",
            "240/240 [==============================] - 1s 3ms/step - loss: 26.6563 - accuracy: 0.0000e+00\n",
            "Epoch 99/100\n",
            "240/240 [==============================] - 1s 2ms/step - loss: 27.5797 - accuracy: 0.0000e+00\n",
            "Epoch 100/100\n",
            "240/240 [==============================] - 1s 3ms/step - loss: 27.3035 - accuracy: 0.0000e+00\n"
          ]
        },
        {
          "output_type": "execute_result",
          "data": {
            "text/plain": [
              "<keras.callbacks.History at 0x7feac016ddd0>"
            ]
          },
          "metadata": {},
          "execution_count": 20
        }
      ]
    },
    {
      "cell_type": "code",
      "source": [
        "y_preds = ann.predict(X_test)\n",
        "y_preds"
      ],
      "metadata": {
        "colab": {
          "base_uri": "https://localhost:8080/"
        },
        "id": "rGE59R1oksO-",
        "outputId": "53003ccb-7dbe-448a-aba2-2dd1f2d55990"
      },
      "execution_count": 21,
      "outputs": [
        {
          "output_type": "execute_result",
          "data": {
            "text/plain": [
              "array([[432.39194],\n",
              "       [459.78656],\n",
              "       [431.78842],\n",
              "       ...,\n",
              "       [476.07553],\n",
              "       [452.40567],\n",
              "       [470.19727]], dtype=float32)"
            ]
          },
          "metadata": {},
          "execution_count": 21
        }
      ]
    },
    {
      "cell_type": "code",
      "source": [
        "from sklearn.metrics import r2_score\n",
        "print(r2_score(y_test, y_preds))"
      ],
      "metadata": {
        "colab": {
          "base_uri": "https://localhost:8080/"
        },
        "id": "558W7rzxsNaK",
        "outputId": "cc8253cb-aeea-4f9b-d1d4-e01345792910"
      },
      "execution_count": 22,
      "outputs": [
        {
          "output_type": "stream",
          "name": "stdout",
          "text": [
            "0.9118387211217466\n"
          ]
        }
      ]
    },
    {
      "cell_type": "code",
      "source": [
        ""
      ],
      "metadata": {
        "id": "MHwQYLKas6P4"
      },
      "execution_count": null,
      "outputs": []
    }
  ]
}